{
 "cells": [
  {
   "cell_type": "markdown",
   "metadata": {},
   "source": [
    "<font style=\"font-size:28px;\" align=\"left\"><b>Variables </b></font>"
   ]
  },
  {
   "cell_type": "markdown",
   "metadata": {},
   "source": [
    "<a id=\"task1\"></a>\n",
    "\n",
    "<h3> Task 1 </h3>\n",
    "\n",
    "Define three variables $n1$, $n2$, and $n3$, and set their values to $3$, $-4$, and $6$.\n",
    "\n",
    "Define a new variable $r1$, and set its value to $ (2 \\cdot n1 + 3 \\cdot n2) \\cdot 2 - 5 \\cdot n3 $, where $\\cdot$ represents the multiplication operator. \n",
    "\n",
    "<i>The multiplication operator in python (and in many other programming languages) is *.</i>\n",
    "\n",
    "Then, print the value of $r1$. \n",
    "\n",
    "As you may verify it by yourself,  the result should be $-42$."
   ]
  },
  {
   "cell_type": "markdown",
   "metadata": {},
   "source": [
    "<h3>Solution</h3>"
   ]
  },
  {
   "cell_type": "code",
   "execution_count": 1,
   "metadata": {},
   "outputs": [
    {
     "name": "stdout",
     "output_type": "stream",
     "text": [
      "3 -4 6\n",
      "-42\n"
     ]
    }
   ],
   "source": [
    "#\n",
    "# your solution is here\n",
    "#\n",
    "\n",
    "\n",
    "n1,n2,n3 = 3,-4,6\n",
    "\n",
    "print(n1,n2,n3)\n",
    "\n",
    "r1 = (2 * n1 + 3 * n2)*2 - 5 *n3\n",
    "print(r1)"
   ]
  },
  {
   "cell_type": "markdown",
   "metadata": {},
   "source": [
    "<a href=\"Python08_Basics_Variables_Solutions.ipynb#task2\">click for our solution</a>"
   ]
  },
  {
   "cell_type": "markdown",
   "metadata": {},
   "source": [
    "<a id=\"task2\"></a>\n",
    "<h3> Task 2 </h3>\n",
    "\n",
    "By using the same variables (you may not need to define them again), calculate and print the following value in python:\n",
    "$$\n",
    "    \\dfrac{(n1-n2)\\cdot(n2-n3)}{(n3-n1)\\cdot(n3+1)} .\n",
    "$$\n",
    "\n",
    "You should see $ -3.3333333333333335 $ as the outcome.\n",
    "\n",
    "You may round any float number up to a decimal digit by $ round(variable,digit) $."
   ]
  },
  {
   "cell_type": "markdown",
   "metadata": {},
   "source": [
    "<h3>Solution</h3>"
   ]
  },
  {
   "cell_type": "code",
   "execution_count": 2,
   "metadata": {},
   "outputs": [
    {
     "name": "stdout",
     "output_type": "stream",
     "text": [
      "-3.3333333333333335\n",
      "-3.333\n"
     ]
    }
   ],
   "source": [
    "n1,n2,n3 = 3,-4,6\n",
    "\n",
    "up = (n1-n2) * (n2-n3)\n",
    "down = (n3-n1) * (n3+1)\n",
    "\n",
    "result = up/down\n",
    "print (result)\n",
    "\n",
    "# round the result up the 3rd decimal digit\n",
    "print(round(result,3))"
   ]
  },
  {
   "cell_type": "markdown",
   "metadata": {},
   "source": [
    "<a id=\"task3\"></a>\n",
    "<h3> Task 3 </h3>\n",
    "\n",
    "Define variables N and S, and set their values to your name and surname. \n",
    "\n",
    "Then, print the values of N and S with a prefix phrase \"hello from the quantum world to\"."
   ]
  },
  {
   "cell_type": "markdown",
   "metadata": {},
   "source": [
    "<h3> Solution</h3> "
   ]
  },
  {
   "cell_type": "code",
   "execution_count": 3,
   "metadata": {},
   "outputs": [
    {
     "name": "stdout",
     "output_type": "stream",
     "text": [
      "hello from the quantum world to Abuzer Yakaryilmaz\n"
     ]
    }
   ],
   "source": [
    "N = \"Sevdanur\"\n",
    "S = \"GENC\"\n",
    "\n",
    "print(\"hello from the quantum world to\",N,S)"
   ]
  },
  {
   "cell_type": "code",
   "execution_count": null,
   "metadata": {},
   "outputs": [],
   "source": []
  },
  {
   "cell_type": "code",
   "execution_count": null,
   "metadata": {},
   "outputs": [],
   "source": []
  }
 ],
 "metadata": {
  "kernelspec": {
   "display_name": "Python 3",
   "language": "python",
   "name": "python3"
  },
  "language_info": {
   "codemirror_mode": {
    "name": "ipython",
    "version": 3
   },
   "file_extension": ".py",
   "mimetype": "text/x-python",
   "name": "python",
   "nbconvert_exporter": "python",
   "pygments_lexer": "ipython3",
   "version": "3.7.3"
  }
 },
 "nbformat": 4,
 "nbformat_minor": 2
}
