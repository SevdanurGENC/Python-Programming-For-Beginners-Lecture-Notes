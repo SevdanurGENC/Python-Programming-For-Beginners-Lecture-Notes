{
 "cells": [
  {
   "cell_type": "markdown",
   "metadata": {},
   "source": [
    "<font style=\"font-size:28px;\" align=\"left\"><b>Lists </font> "
   ]
  },
  {
   "cell_type": "markdown",
   "metadata": {},
   "source": [
    "<a id=\"task1\"></a>\n",
    "<h3> Task 1 </h3>\n",
    "\n",
    "Fibonacci sequence starts with $ 1 $ and $ 1 $. Then, each next element is equal to the summation of the previous two elements:\n",
    "$$\n",
    "    1, 1, 2 , 3 , 5, 8, 13, 21, 34, 55, \\ldots \n",
    "$$\n",
    "\n",
    "Find the first 30 elements of the Fibonacci sequence, store them in a list, and then print the list. \n",
    "\n",
    "You can verify the first 10 elements of your result with the above list."
   ]
  },
  {
   "cell_type": "markdown",
   "metadata": {},
   "source": [
    "<h3>Solution</h3>"
   ]
  },
  {
   "cell_type": "code",
   "execution_count": 1,
   "metadata": {},
   "outputs": [
    {
     "name": "stdout",
     "output_type": "stream",
     "text": [
      "[1, 1, 2, 3, 5, 8, 13, 21, 34, 55, 89, 144, 233, 377, 610, 987, 1597, 2584, 4181, 6765, 10946, 17711, 28657, 46368, 75025, 121393, 196418, 317811, 514229, 832040]\n"
     ]
    }
   ],
   "source": [
    "# the first and second elements are 1 and 1\n",
    "F = [1,1]\n",
    "\n",
    "for i in range(2,30):\n",
    "    F.append(F[i-1] + F[i-2])\n",
    "\n",
    "# print the final list\n",
    "print(F)"
   ]
  },
  {
   "cell_type": "markdown",
   "metadata": {},
   "source": [
    "<a id=\"task2\"></a>\n",
    "<h3> Task 2 </h3>\n",
    "\n",
    "Define a list $ N $ with 11 elements such that $ N[i] $ is another list with four elements such that $ [i, i^2, i^3, i^2+i^3] $.\n",
    "\n",
    "The index $ i $ should be between $ 0 $ and $ 10 $."
   ]
  },
  {
   "cell_type": "markdown",
   "metadata": {},
   "source": [
    "<h3>Solution</h3>"
   ]
  },
  {
   "cell_type": "code",
   "execution_count": 2,
   "metadata": {},
   "outputs": [
    {
     "name": "stdout",
     "output_type": "stream",
     "text": [
      "whole list= [[0, 0, 0, 0], [1, 1, 1, 2], [2, 4, 8, 12], [3, 9, 27, 36], [4, 16, 64, 80], [5, 25, 125, 150], [6, 36, 216, 252], [7, 49, 343, 392], [8, 64, 512, 576], [9, 81, 729, 810], [10, 100, 1000, 1100]]\n"
     ]
    }
   ],
   "source": [
    "# define an empty list\n",
    "N = []\n",
    "\n",
    "for i in range(11):\n",
    "    N.append([ i , i*i , i*i*i , i*i + i*i*i ]) # a list having four elements is added to the list N\n",
    "    # Alternatively:\n",
    "    #N.append([i , i**2 , i**3 , i**2 + i**3]) # ** is the exponent operator\n",
    "    #N = N + [ [i , i*i , i*i*i , i*i + i*i*i] ] # Why using double brackets?\n",
    "    #N = N + [ [i , i**2 , i**3 , i**2 + i**3] ] # Why using double brackets?\n",
    "    # In the last two alternative solutions, you may try with a single bracket, \n",
    "    #     and then see why double brackets are needed for the exact answer.\n",
    "\n",
    "# print the final list\n",
    "print(\"whole list=\",N)"
   ]
  },
  {
   "cell_type": "code",
   "execution_count": 3,
   "metadata": {},
   "outputs": [
    {
     "name": "stdout",
     "output_type": "stream",
     "text": [
      "[0, 0, 0, 0]\n",
      "[1, 1, 1, 2]\n",
      "[2, 4, 8, 12]\n",
      "[3, 9, 27, 36]\n",
      "[4, 16, 64, 80]\n",
      "[5, 25, 125, 150]\n",
      "[6, 36, 216, 252]\n",
      "[7, 49, 343, 392]\n",
      "[8, 64, 512, 576]\n",
      "[9, 81, 729, 810]\n",
      "[10, 100, 1000, 1100]\n"
     ]
    }
   ],
   "source": [
    "# let's print the list N element by element\n",
    "for i in range(len(N)):\n",
    "    print(N[i])"
   ]
  },
  {
   "cell_type": "code",
   "execution_count": 4,
   "metadata": {},
   "outputs": [
    {
     "name": "stdout",
     "output_type": "stream",
     "text": [
      "[0, 0, 0, 0]\n",
      "[1, 1, 1, 2]\n",
      "[2, 4, 8, 12]\n",
      "[3, 9, 27, 36]\n",
      "[4, 16, 64, 80]\n",
      "[5, 25, 125, 150]\n",
      "[6, 36, 216, 252]\n",
      "[7, 49, 343, 392]\n",
      "[8, 64, 512, 576]\n",
      "[9, 81, 729, 810]\n",
      "[10, 100, 1000, 1100]\n"
     ]
    }
   ],
   "source": [
    "# let's print the list N element by element by using an alternative method\n",
    "for el in N: # el will iteratively takes the values of elements in N \n",
    "    print(el)"
   ]
  },
  {
   "cell_type": "code",
   "execution_count": null,
   "metadata": {},
   "outputs": [],
   "source": []
  },
  {
   "cell_type": "code",
   "execution_count": null,
   "metadata": {},
   "outputs": [],
   "source": []
  }
 ],
 "metadata": {
  "kernelspec": {
   "display_name": "Python 3",
   "language": "python",
   "name": "python3"
  },
  "language_info": {
   "codemirror_mode": {
    "name": "ipython",
    "version": 3
   },
   "file_extension": ".py",
   "mimetype": "text/x-python",
   "name": "python",
   "nbconvert_exporter": "python",
   "pygments_lexer": "ipython3",
   "version": "3.7.3"
  }
 },
 "nbformat": 4,
 "nbformat_minor": 2
}
