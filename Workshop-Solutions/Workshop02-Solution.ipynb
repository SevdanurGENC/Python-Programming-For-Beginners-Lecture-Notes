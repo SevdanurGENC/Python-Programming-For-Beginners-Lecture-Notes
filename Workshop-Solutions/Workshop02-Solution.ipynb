{
 "cells": [
  {
   "cell_type": "markdown",
   "metadata": {},
   "source": [
    "<font style=\"font-size:28px;\" align=\"left\"><b>Loops  </b></font>"
   ]
  },
  {
   "cell_type": "markdown",
   "metadata": {},
   "source": [
    "<a id=\"task1\"></a>\n",
    "<h3> Task 1 </h3>\n",
    "\n",
    "Calculate the value of summation $ 3+6+9+\\cdots+51 $, and then print the result.\n",
    "\n",
    "Your result should be 459."
   ]
  },
  {
   "cell_type": "markdown",
   "metadata": {},
   "source": [
    "<h3>Solution</h3>"
   ]
  },
  {
   "cell_type": "code",
   "execution_count": 1,
   "metadata": {},
   "outputs": [
    {
     "name": "stdout",
     "output_type": "stream",
     "text": [
      "The summation is 459\n",
      "The summation is 459\n"
     ]
    }
   ],
   "source": [
    "total1 = 0\n",
    "total2 = 0\n",
    "\n",
    "for i in range(3,52,3):\n",
    "    total1 = total1 + i\n",
    "    total2 += i # shorter form\n",
    "\n",
    "print(\"The summation is\",total1)\n",
    "print(\"The summation is\",total2)"
   ]
  },
  {
   "cell_type": "markdown",
   "metadata": {},
   "source": [
    "<a id=\"task2\"></a>\n",
    "<h3> Task 2 </h3>\n",
    "\n",
    "$ 3^k $ means $ 3 \\cdot 3 \\cdot \\cdots \\cdot 3 $ ($ k $ times) for $ k \\geq 2 $. \n",
    "\n",
    "Moreover, $ 3^0  $ is 1 and $ 3^1 = 3 $.\n",
    "\n",
    "Calculate the value of summation $ 3^0 + 3^1 + 3^2 + \\cdots + 3^8 $, and then print the result.\n",
    "\n",
    "Your result should be 9841."
   ]
  },
  {
   "cell_type": "markdown",
   "metadata": {},
   "source": [
    "<h3>Solution</h3>"
   ]
  },
  {
   "cell_type": "code",
   "execution_count": 2,
   "metadata": {},
   "outputs": [
    {
     "name": "stdout",
     "output_type": "stream",
     "text": [
      "3 to 0 is 1\n",
      "3 to 1 is 3\n",
      "3 to 2 is 9\n",
      "3 to 3 is 27\n",
      "3 to 4 is 81\n",
      "3 to 5 is 243\n",
      "3 to 6 is 729\n",
      "3 to 7 is 2187\n",
      "3 to 8 is 6561\n",
      "summation is 9841\n"
     ]
    }
   ],
   "source": [
    "T = 0 \n",
    "current_number = 1\n",
    "for i in range(9):\n",
    "    T = T + current_number\n",
    "    print(\"3 to\",i,\"is\",current_number)\n",
    "    current_number = 3 * current_number\n",
    "    \n",
    "print(\"summation is\",T)"
   ]
  },
  {
   "cell_type": "code",
   "execution_count": 3,
   "metadata": {},
   "outputs": [
    {
     "name": "stdout",
     "output_type": "stream",
     "text": [
      "3 to 0 is 1\n",
      "3 to 1 is 3\n",
      "3 to 2 is 9\n",
      "3 to 3 is 27\n",
      "3 to 4 is 81\n",
      "3 to 5 is 243\n",
      "3 to 6 is 729\n",
      "3 to 7 is 2187\n",
      "3 to 8 is 6561\n",
      "summation is 9841\n"
     ]
    }
   ],
   "source": [
    "# Python has also exponent operator: **\n",
    "# we can also directly use it\n",
    "\n",
    "T = 0\n",
    "\n",
    "for i in range(9):\n",
    "    print(\"3 to\",i,\"is\",3**i)\n",
    "    T = T + 3 ** i\n",
    "    \n",
    "print(\"summation is\",T)"
   ]
  },
  {
   "cell_type": "markdown",
   "metadata": {},
   "source": [
    "<a id=\"task3\"></a>\n",
    "<h3> Task 3 </h3>\n",
    "\n",
    "Consider the summation $ T(n) = 1 + \\dfrac{1}{2} + \\dfrac{1}{4}+ \\dfrac{1}{8} + \\cdots + \\dfrac{1}{2^n} $ for some natural number $ n $. \n",
    "\n",
    "Remark that $ T(0) = \\dfrac{1}{2^0} = \\dfrac{1}{1} = 1 $.\n",
    "\n",
    "This summation can be arbitrarily close to $2$. \n",
    "\n",
    "Find the minimum value of $ n $ such that $ T(n) $ is close to $2$ by $ 0.01 $, i.e., $ 2 - T(n) < 0.01 $.\n",
    "\n",
    "In other words, we find the minimum value of $n$ such that $ T(n) > 1.99 $.\n",
    "\n",
    "The operator for \"less than or equal to\" in python is \"$ < = $\"."
   ]
  },
  {
   "cell_type": "markdown",
   "metadata": {},
   "source": [
    "<h3> Solution</h3>"
   ]
  },
  {
   "cell_type": "code",
   "execution_count": 4,
   "metadata": {},
   "outputs": [
    {
     "name": "stdout",
     "output_type": "stream",
     "text": [
      "Iteration = 1 and n = 1.0\n",
      " T = 1.0\n",
      " Is T less than or equal to 1.99? - True\n",
      "\n",
      "Iteration = 2 and n = 0.5\n",
      " T = 1.5\n",
      " Is T less than or equal to 1.99? - True\n",
      "\n",
      "Iteration = 3 and n = 0.25\n",
      " T = 1.75\n",
      " Is T less than or equal to 1.99? - True\n",
      "\n",
      "Iteration = 4 and n = 0.125\n",
      " T = 1.875\n",
      " Is T less than or equal to 1.99? - True\n",
      "\n",
      "Iteration = 5 and n = 0.0625\n",
      " T = 1.9375\n",
      " Is T less than or equal to 1.99? - True\n",
      "\n",
      "Iteration = 6 and n = 0.03125\n",
      " T = 1.96875\n",
      " Is T less than or equal to 1.99? - True\n",
      "\n",
      "Iteration = 7 and n = 0.015625\n",
      " T = 1.984375\n",
      " Is T less than or equal to 1.99? - True\n",
      "\n",
      "Iteration = 8 and n = 0.0078125\n",
      " T = 1.9921875\n",
      " Is T less than or equal to 1.99? - False\n",
      "\n",
      "\n",
      "The number of terms in the summation: 8\n"
     ]
    }
   ],
   "source": [
    "T = 0\n",
    "n = 2  # this value iteratively will be first halved and then added to the summation T\n",
    "number_of_iteration = 1\n",
    "number_of_terms = 0\n",
    "\n",
    "while T<=1.99:\n",
    "    n = n/2 # half the value of n\n",
    "    print(\"Iteration =\",number_of_iteration,\"and n =\",n)\n",
    "    T = T + n # update the value of T\n",
    "    print(\" T =\",T)\n",
    "    print(\" Is T less than or equal to 1.99? -\",(T<=1.99))\n",
    "    number_of_terms = number_of_terms + 1\n",
    "    number_of_iteration +=1\n",
    "    print()\n",
    "\n",
    "print()\n",
    "print(\"The number of terms in the summation:\",number_of_terms)"
   ]
  },
  {
   "cell_type": "markdown",
   "metadata": {},
   "source": [
    "<a id=\"task4\"></a>\n",
    "<h3> Task 4 </h3>\n",
    "\n",
    "Randomly pick number(s) between 0 and 9 until hitting 3, and then print the number of attempt(s).\n",
    "\n",
    "We can use <i>randrange</i> function from <i>random</i> module for randomly picking a number in the given range."
   ]
  },
  {
   "cell_type": "markdown",
   "metadata": {},
   "source": [
    "<h3> Solution</h3>"
   ]
  },
  {
   "cell_type": "code",
   "execution_count": 5,
   "metadata": {},
   "outputs": [
    {
     "name": "stdout",
     "output_type": "stream",
     "text": [
      "1 -> 9\n",
      "2 -> 1\n",
      "3 -> 3\n",
      "total number of attempt(s) is 3\n"
     ]
    }
   ],
   "source": [
    "from random import randrange\n",
    "\n",
    "r = 0\n",
    "attempt = 0\n",
    "\n",
    "while r != 3: # the loop iterates as long as r is not equal to 3\n",
    "    r = randrange(10) # randomly pick a number from {0,1,...,9}\n",
    "    attempt = attempt + 1 # increase the number of attempts by 1\n",
    "    print (attempt,\"->\",r) # print the number of attempt and the randomly picked number\n",
    "    \n",
    "print(\"total number of attempt(s) is\",attempt)"
   ]
  },
  {
   "cell_type": "markdown",
   "metadata": {},
   "source": [
    "<a id=\"task5\"></a>\n",
    "<h3> Task 5 </h3>\n",
    "\n",
    "This task is challenging . \n",
    "\n",
    "It is designed for the usage of double nested loops: one loop inside of the other loop.\n",
    "\n",
    "In the fourth task above, the expected number of attempt(s) to hit number 3 is 10. \n",
    "\n",
    "Do a series of experiments by using your solution for Task 4.\n",
    "\n",
    "Experiment 1: Execute your solution 20 times, and then calculate the average attempts.\n",
    "\n",
    "Experiment 2: Execute your solution 200 times, and then calculate the average attempts.\n",
    "\n",
    "Experiment 3: Execute your solution 2000 times, and then calculate the average attempts.\n",
    "\n",
    "Experiment 4: Execute your solution 20000 times, and then calculate the average attempts.\n",
    "\n",
    "Experiment 5: Execute your solution 200000 times, and then calculate the average attempts.\n",
    "\n",
    "<i>Your experimental average sgould get closer to 10 when the number of executions is increased.</i>\n",
    "\n",
    "Remark that all five experiments may also be automatically done by using triple loops."
   ]
  },
  {
   "cell_type": "markdown",
   "metadata": {},
   "source": [
    "<h3> Solution</h3>"
   ]
  },
  {
   "cell_type": "code",
   "execution_count": 6,
   "metadata": {},
   "outputs": [
    {
     "name": "stdout",
     "output_type": "stream",
     "text": [
      "After 20 executions, the average is 11.1\n"
     ]
    }
   ],
   "source": [
    "# be aware of single and double indentions\n",
    "\n",
    "number_of_execution = 20 # change this with 20, 200, 2000, 20000, 200000 and reexecute this cell\n",
    "total_attempts = 0  \n",
    "\n",
    "from random import randrange\n",
    "\n",
    "for i in range(number_of_execution): # the outer loop iterates number_of_execution times\n",
    "    r = 0 \n",
    "    attempt = 0\n",
    "    while r != 3: # the while-loop iterates as long as r is not equal to 3\n",
    "        r = randrange(10) # randomly pick a number\n",
    "        attempt = attempt + 1 # increase the number of attempts by 1\n",
    "    # I am out of scope of while-loop\n",
    "    total_attempts = total_attempts + attempt # update the total number of attempts\n",
    "    \n",
    "# I am out of scope of for-loop\n",
    "print(\"After\",number_of_execution,\"executions, the average is\",total_attempts/number_of_execution)"
   ]
  },
  {
   "cell_type": "code",
   "execution_count": 7,
   "metadata": {},
   "outputs": [
    {
     "name": "stdout",
     "output_type": "stream",
     "text": [
      "After 20 executions, the average is 7.15\n",
      "After 200 executions, the average is 9.995\n",
      "After 2000 executions, the average is 9.9105\n",
      "After 20000 executions, the average is 10.05735\n",
      "After 200000 executions, the average is 10.019165\n"
     ]
    }
   ],
   "source": [
    "# let's use triple nested loops\n",
    "for number_of_execution in [20,200,2000,20000,200000]: # we will use the same code by indenting all lines by one more level\n",
    "    total_attempts = 0 \n",
    "    for i in range(number_of_execution): # the middle loop iterates number_of_execution times\n",
    "        r = 0 \n",
    "        attempt = 0\n",
    "        while r != 3: # the while-loop iterates as long as r is not equal to 3\n",
    "            r = randrange(10) # randomly pick a number\n",
    "            attempt = attempt + 1 # increase the number of attempts by 1\n",
    "        # I am out of scope of while-loop\n",
    "        total_attempts = total_attempts + attempt # update the total number of attempts\n",
    "    # I am out of scope of for-loop\n",
    "    print(\"After\",number_of_execution,\"executions, the average is\",total_attempts/number_of_execution)\n",
    "\n",
    "# you may include 2 million to the list, but you should WAIT for a while to see the result\n",
    "# Can your computer compete with exponential growth?\n",
    "# if you think \"yes\",  try 20 million, 200 million, and so on"
   ]
  },
  {
   "cell_type": "code",
   "execution_count": null,
   "metadata": {},
   "outputs": [],
   "source": []
  },
  {
   "cell_type": "code",
   "execution_count": null,
   "metadata": {},
   "outputs": [],
   "source": []
  }
 ],
 "metadata": {
  "kernelspec": {
   "display_name": "Python 3",
   "language": "python",
   "name": "python3"
  },
  "language_info": {
   "codemirror_mode": {
    "name": "ipython",
    "version": 3
   },
   "file_extension": ".py",
   "mimetype": "text/x-python",
   "name": "python",
   "nbconvert_exporter": "python",
   "pygments_lexer": "ipython3",
   "version": "3.7.3"
  }
 },
 "nbformat": 4,
 "nbformat_minor": 2
}
