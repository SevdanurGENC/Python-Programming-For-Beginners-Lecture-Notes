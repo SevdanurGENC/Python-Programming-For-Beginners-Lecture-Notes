{
 "cells": [
  {
   "cell_type": "markdown",
   "metadata": {},
   "source": [
    "<font style=\"font-size:28px;\" align=\"left\"><b>Conditionals </font> "
   ]
  },
  {
   "cell_type": "markdown",
   "metadata": {},
   "source": [
    "<a id=\"task1\"></a>\n",
    "<h3> Task 1 </h3>\n",
    "\n",
    "Randomly pick a number between 10 and 50, and say whether it is even or not.\n",
    "\n",
    "Remember the reminder/mod operator (%). \n",
    "\n",
    "A number is even if is exactly divided by 2. That is, the reminder is zero when divided by 2 over integers.\n",
    "\n",
    "If the number is odd, then the reminder will be 1 when divided by 2 over integers."
   ]
  },
  {
   "cell_type": "markdown",
   "metadata": {},
   "source": [
    "<h3>Solution</h3>"
   ]
  },
  {
   "cell_type": "code",
   "execution_count": 1,
   "metadata": {},
   "outputs": [
    {
     "name": "stdout",
     "output_type": "stream",
     "text": [
      "18 is even\n"
     ]
    }
   ],
   "source": [
    "from random import randrange\n",
    "\n",
    "r = randrange(10,51)\n",
    "\n",
    "if r % 2 ==0: print(r,\"is even\")\n",
    "else: print(r,\"is odd\")"
   ]
  },
  {
   "cell_type": "markdown",
   "metadata": {},
   "source": [
    "<a id=\"task2\"></a>\n",
    "<h3> Task 2 </h3>\n",
    "\n",
    "Randomly pick a number between 0 and 99. \n",
    "\n",
    "With half probability $\\left( 0.5 = \\dfrac{1}{2} \\right)$, it is expected to be between 0 and 49 or between 50 and 99.\n",
    "\n",
    "Experimentally verify this claim.\n",
    "\n",
    "N=100 times randomly pick a number between 0 and 99, calculate the frequencies of both cases, and then divide each by 100. \n",
    "\n",
    "Repeat the same experiment for N=1,000, N=10,000, and N=100,000.\n",
    "\n",
    "Experimental results should get closer to \"the ideal ratio\" $0.5$ when N increases."
   ]
  },
  {
   "cell_type": "markdown",
   "metadata": {},
   "source": [
    "<h3>Solution</h3>"
   ]
  },
  {
   "cell_type": "code",
   "execution_count": 2,
   "metadata": {},
   "outputs": [
    {
     "name": "stdout",
     "output_type": "stream",
     "text": [
      "100 -> 0.48 0.52\n",
      "1000 -> 0.48 0.52\n",
      "10000 -> 0.4891 0.5109\n",
      "100000 -> 0.50141 0.49859\n"
     ]
    }
   ],
   "source": [
    "from random import randrange\n",
    "\n",
    "for N in [100,1000,10000,100000]:\n",
    "    first_half=second_half=0\n",
    "    for i in range(N):\n",
    "        r = randrange(100)\n",
    "        if r<50: \n",
    "            first_half = first_half + 1\n",
    "        else: \n",
    "            second_half=second_half + 1\n",
    "    print(N,\"->\",first_half/N,second_half/N)"
   ]
  },
  {
   "cell_type": "code",
   "execution_count": null,
   "metadata": {},
   "outputs": [],
   "source": []
  },
  {
   "cell_type": "code",
   "execution_count": null,
   "metadata": {},
   "outputs": [],
   "source": []
  }
 ],
 "metadata": {
  "kernelspec": {
   "display_name": "Python 3",
   "language": "python",
   "name": "python3"
  },
  "language_info": {
   "codemirror_mode": {
    "name": "ipython",
    "version": 3
   },
   "file_extension": ".py",
   "mimetype": "text/x-python",
   "name": "python",
   "nbconvert_exporter": "python",
   "pygments_lexer": "ipython3",
   "version": "3.7.3"
  }
 },
 "nbformat": 4,
 "nbformat_minor": 2
}
