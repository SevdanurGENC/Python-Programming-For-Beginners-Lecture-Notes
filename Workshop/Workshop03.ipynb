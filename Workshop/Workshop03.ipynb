{
 "cells": [
  {
   "cell_type": "markdown",
   "metadata": {},
   "source": [
    "<font style=\"font-size:28px;\" align=\"left\"><b>Conditionals </font> "
   ]
  },
  {
   "cell_type": "markdown",
   "metadata": {},
   "source": [
    "<a id=\"task1\"></a>\n",
    "<h3> Task 1 </h3>\n",
    "\n",
    "Randomly pick a number between 10 and 50, and say whether it is even or not.\n",
    "\n",
    "Remember the reminder/mod operator (%). \n",
    "\n",
    "A number is even if is exactly divided by 2. That is, the reminder is zero when divided by 2 over integers.\n",
    "\n",
    "If the number is odd, then the reminder will be 1 when divided by 2 over integers."
   ]
  },
  {
   "cell_type": "markdown",
   "metadata": {},
   "source": [
    "<h3>Solution</h3>"
   ]
  },
  {
   "cell_type": "code",
   "execution_count": 1,
   "metadata": {},
   "outputs": [],
   "source": [
    "#\n",
    "# your solution is here\n",
    "#"
   ]
  },
  {
   "cell_type": "markdown",
   "metadata": {},
   "source": [
    "<a id=\"task2\"></a>\n",
    "<h3> Task 2 </h3>\n",
    "\n",
    "Randomly pick a number between 0 and 99. \n",
    "\n",
    "With half probability $\\left( 0.5 = \\dfrac{1}{2} \\right)$, it is expected to be between 0 and 49 or between 50 and 99.\n",
    "\n",
    "Experimentally verify this claim.\n",
    "\n",
    "N=100 times randomly pick a number between 0 and 99, calculate the frequencies of both cases, and then divide each by 100. \n",
    "\n",
    "Repeat the same experiment for N=1,000, N=10,000, and N=100,000.\n",
    "\n",
    "Experimental results should get closer to \"the ideal ratio\" $0.5$ when N increases."
   ]
  },
  {
   "cell_type": "markdown",
   "metadata": {},
   "source": [
    "<h3>Solution</h3>"
   ]
  },
  {
   "cell_type": "code",
   "execution_count": 2,
   "metadata": {},
   "outputs": [],
   "source": [
    "#\n",
    "# your solution is here\n",
    "#"
   ]
  },
  {
   "cell_type": "code",
   "execution_count": null,
   "metadata": {},
   "outputs": [],
   "source": []
  },
  {
   "cell_type": "code",
   "execution_count": null,
   "metadata": {},
   "outputs": [],
   "source": []
  }
 ],
 "metadata": {
  "kernelspec": {
   "display_name": "Python 3",
   "language": "python",
   "name": "python3"
  },
  "language_info": {
   "codemirror_mode": {
    "name": "ipython",
    "version": 3
   },
   "file_extension": ".py",
   "mimetype": "text/x-python",
   "name": "python",
   "nbconvert_exporter": "python",
   "pygments_lexer": "ipython3",
   "version": "3.7.3"
  }
 },
 "nbformat": 4,
 "nbformat_minor": 2
}
