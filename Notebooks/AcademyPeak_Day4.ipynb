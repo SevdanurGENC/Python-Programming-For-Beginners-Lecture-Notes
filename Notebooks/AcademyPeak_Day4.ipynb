{
 "cells": [
  {
   "cell_type": "markdown",
   "metadata": {
    "colab_type": "text",
    "id": "9NqX9G3F8uZQ"
   },
   "source": [
    "# Modüller\n",
    "\n",
    "Bazı işlevleri kolaylıkla yerine getirmemizi sağlayan birtakım fonksiyonları ve nitelikleri içinde barındıran araçlardır. Barındırdığı bu fonksiyonları farklı dosyalar ve programlar içinde tekrar tekrar kullanma imkanı sağlar. Modüller sayesinde Python çok daha kullanışlı ve uygulaması kolay bir dil haline gelmiştir.\n",
    "\n",
    "Python’da herhangi bir modülü kullanabilmek için öncelikle onu ‘içe aktarmamız’ gerekir. İçe aktarmak, bir modül içindeki fonksiyon ve nitelikleri başka bir program içinden kullanılabilir hale getirmek demektir.\n",
    "\n",
    "**import <modül_adı>**"
   ]
  },
  {
   "cell_type": "code",
   "execution_count": null,
   "metadata": {
    "colab": {
     "base_uri": "https://localhost:8080/",
     "height": 141
    },
    "colab_type": "code",
    "id": "MDmE3VeY2BUv",
    "outputId": "351b4ba3-b5a3-42ee-8d6c-c054ac84366b"
   },
   "outputs": [],
   "source": [
    "import random \n",
    "\n",
    "\n",
    "gizli = rnd.randint(1, 100)\n",
    "\n",
    "check = False\n",
    "\n",
    "#tahmin = int(input(\"Bir tahmin giriniz:\"))\n",
    "\n",
    "for x in range(5):\n",
    "  tahmin = int(input(\"Bir tahmin giriniz:\"))\n",
    "  if tahmin == gizli:\n",
    "    print(\"Tebrikler\")\n",
    "    check = True\n",
    "    break\n",
    "  elif tahmin < gizli:\n",
    "    print(\"Daha büyük bir sayı giriniz!!\")\n",
    "  else:\n",
    "    print(\"Daha küçük bir sayı giriniz!!\")\n",
    "    \n",
    "if not check:\n",
    "  print(\"Bilemediniz, belirlenen sayı: \", gizli)"
   ]
  },
  {
   "cell_type": "markdown",
   "metadata": {
    "colab_type": "text",
    "id": "6vddxASQcwOx"
   },
   "source": [
    "# Functions\n",
    "\n",
    "Functions are blocks of code that can be used over and over again to perform a specific action.\n",
    "\n",
    "As we know, in Python, there are print (), len () etc. Many available functions are defined.\n",
    "\n",
    "We can use it in our own code by providing access to functions defined in libraries, modules and packages. These are called predefined functions, embedded functions (built-in) or library functions. We can use ready-made functions as well as create our own functions. (User-defined)\n",
    "\n",
    "\n",
    "Functions prevent code repetition and our code stays more modular and organized.\n",
    "\n",
    "\n",
    "*****\n",
    "\n",
    "def \"function_name\"(parameter1,parameter2,..):\n",
    "\n",
    "\n",
    "> \"Do something\"\n",
    "\n",
    "  return \"return something\"  (depends on functionality) \n",
    "\n",
    "\n"
   ]
  },
  {
   "cell_type": "code",
   "execution_count": null,
   "metadata": {
    "colab": {},
    "colab_type": "code",
    "id": "xmv4r_jCboXC"
   },
   "outputs": [],
   "source": [
    "def hello():\n",
    "  print(\"Hello Everyone!!\")"
   ]
  },
  {
   "cell_type": "code",
   "execution_count": null,
   "metadata": {
    "colab": {},
    "colab_type": "code",
    "id": "9WyymUQqgSBQ",
    "outputId": "19e2899e-4bb3-4585-b105-fd8073d49c36"
   },
   "outputs": [
    {
     "name": "stdout",
     "output_type": "stream",
     "text": [
      "Hello Everyone!!\n"
     ]
    }
   ],
   "source": [
    "hello()#calling the func   #the functions don't have any parameters"
   ]
  },
  {
   "cell_type": "code",
   "execution_count": null,
   "metadata": {
    "colab": {},
    "colab_type": "code",
    "id": "MJ9-t1W-lWiN",
    "outputId": "f6da7628-4f23-48cf-a07c-2bdcda7dc20d"
   },
   "outputs": [
    {
     "name": "stdout",
     "output_type": "stream",
     "text": [
      "Hello Everyone!!\n"
     ]
    }
   ],
   "source": [
    "hello()"
   ]
  },
  {
   "cell_type": "code",
   "execution_count": null,
   "metadata": {
    "colab": {},
    "colab_type": "code",
    "id": "0mNT-X0DoP7y"
   },
   "outputs": [],
   "source": [
    "def hello(name):\n",
    "  print(\"Hello \" + name)\n"
   ]
  },
  {
   "cell_type": "code",
   "execution_count": null,
   "metadata": {
    "colab": {},
    "colab_type": "code",
    "id": "DxZKzFIuoW08",
    "outputId": "3e0d89e3-b547-4c2b-fabe-cac5c11017b0"
   },
   "outputs": [
    {
     "name": "stdout",
     "output_type": "stream",
     "text": [
      "Hello Asli\n"
     ]
    }
   ],
   "source": [
    "hello(\"Asli\")"
   ]
  },
  {
   "cell_type": "code",
   "execution_count": null,
   "metadata": {
    "colab": {
     "base_uri": "https://localhost:8080/",
     "height": 70
    },
    "colab_type": "code",
    "id": "3AoI1i0igZC7",
    "outputId": "96d5c07a-fb7e-4965-b107-d7e3419b4e3d"
   },
   "outputs": [
    {
     "name": "stdout",
     "output_type": "stream",
     "text": [
      "Hello World!!\n",
      "asddasdasd\n",
      "Hello World!!\n"
     ]
    }
   ],
   "source": [
    "def func1():\n",
    "  print(\"Hello World!!\")\n",
    "\n",
    "\n",
    "func1()\n",
    "print(\"asddasdasd\")\n",
    "func1()"
   ]
  },
  {
   "cell_type": "code",
   "execution_count": null,
   "metadata": {
    "colab": {},
    "colab_type": "code",
    "id": "iiSPTWt3hJHo"
   },
   "outputs": [],
   "source": [
    "def summ(a,b):\n",
    "  sum1 = a + b\n",
    "  print(sum1)"
   ]
  },
  {
   "cell_type": "code",
   "execution_count": null,
   "metadata": {
    "colab": {},
    "colab_type": "code",
    "id": "WNgM1TR4haRG",
    "outputId": "9c87437f-4f41-4482-90a4-d629a7a691da"
   },
   "outputs": [
    {
     "name": "stdout",
     "output_type": "stream",
     "text": [
      "13\n"
     ]
    }
   ],
   "source": [
    "summ(6,7)"
   ]
  },
  {
   "cell_type": "code",
   "execution_count": null,
   "metadata": {
    "colab": {},
    "colab_type": "code",
    "id": "-B6w7TKvlWig"
   },
   "outputs": [],
   "source": [
    "list1 = [1,2,3,4,5]\n",
    "sum1 = a + b"
   ]
  },
  {
   "cell_type": "code",
   "execution_count": null,
   "metadata": {
    "colab": {
     "base_uri": "https://localhost:8080/",
     "height": 52
    },
    "colab_type": "code",
    "id": "MfnQx9FFhd5H",
    "outputId": "ef0339f9-f195-40fb-cad8-a3c231726c26"
   },
   "outputs": [
    {
     "name": "stdout",
     "output_type": "stream",
     "text": [
      "17\n",
      "None\n"
     ]
    }
   ],
   "source": [
    "t = summ(8,9)\n",
    "print(t)"
   ]
  },
  {
   "cell_type": "code",
   "execution_count": null,
   "metadata": {
    "colab": {},
    "colab_type": "code",
    "id": "NiymGvuihkZ2"
   },
   "outputs": [],
   "source": [
    "def func(x,y):\n",
    "  summ = x + y\n",
    "  multip = x * y\n",
    "  return (summ,multip)"
   ]
  },
  {
   "cell_type": "code",
   "execution_count": null,
   "metadata": {
    "colab": {
     "base_uri": "https://localhost:8080/",
     "height": 35
    },
    "colab_type": "code",
    "id": "SbtW4TLdh7Pp",
    "outputId": "b2dd6bb7-6769-4d82-96ee-d622de955917"
   },
   "outputs": [
    {
     "name": "stdout",
     "output_type": "stream",
     "text": [
      "68 1035\n"
     ]
    }
   ],
   "source": [
    "t,c = func(23,45)\n",
    "\n",
    "print(t,c)"
   ]
  },
  {
   "cell_type": "code",
   "execution_count": null,
   "metadata": {
    "colab": {},
    "colab_type": "code",
    "id": "M9YmyEwwlWir",
    "outputId": "9738877d-3e22-463a-a13b-1420dc129c87"
   },
   "outputs": [
    {
     "data": {
      "text/plain": [
       "(8, 15)"
      ]
     },
     "execution_count": 31,
     "metadata": {
      "tags": []
     },
     "output_type": "execute_result"
    }
   ],
   "source": [
    "func(3,5)"
   ]
  },
  {
   "cell_type": "code",
   "execution_count": null,
   "metadata": {
    "colab": {},
    "colab_type": "code",
    "id": "ok5sO2h2lWiv",
    "outputId": "8a20eb71-91b6-41ac-e680-572d4445346b"
   },
   "outputs": [
    {
     "name": "stdout",
     "output_type": "stream",
     "text": [
      "4 and 5\n"
     ]
    }
   ],
   "source": [
    "x = 5 \n",
    "y = 4\n",
    "x,y = y,x\n",
    "print(x,\"and\",y)"
   ]
  },
  {
   "cell_type": "code",
   "execution_count": null,
   "metadata": {
    "colab": {},
    "colab_type": "code",
    "id": "Nca_Rpf9iC-x",
    "outputId": "3279fb9f-22e7-498f-ecfe-9ad8e9aa1f03"
   },
   "outputs": [
    {
     "name": "stdout",
     "output_type": "stream",
     "text": [
      "Sum of the values: 68, Multiplying of the values: 1035\n"
     ]
    }
   ],
   "source": [
    "print(\"Sum of the values: \" + str(t) + \", Multiplying of the values: \" + str(c))"
   ]
  },
  {
   "cell_type": "code",
   "execution_count": null,
   "metadata": {
    "colab": {},
    "colab_type": "code",
    "id": "5IS0ARTJiPY1"
   },
   "outputs": [],
   "source": [
    "#Let's write a function that it will square the entered number, but will be terminated when you enter the number 5 and give us an error message.\n",
    "\n",
    "def sqr(x):\n",
    "  if x == 5:\n",
    "    return (\"Terminated because you entered 5\")\n",
    "\n",
    "  result = x **2\n",
    "  return (result)\n"
   ]
  },
  {
   "cell_type": "code",
   "execution_count": null,
   "metadata": {
    "colab": {},
    "colab_type": "code",
    "id": "8TKf40GhlWi4",
    "outputId": "d8b72360-423e-439d-e46f-5b6dbb06541f"
   },
   "outputs": [
    {
     "data": {
      "text/plain": [
       "81"
      ]
     },
     "execution_count": 40,
     "metadata": {
      "tags": []
     },
     "output_type": "execute_result"
    }
   ],
   "source": [
    "3 ** 4"
   ]
  },
  {
   "cell_type": "code",
   "execution_count": null,
   "metadata": {
    "colab": {
     "base_uri": "https://localhost:8080/",
     "height": 35
    },
    "colab_type": "code",
    "id": "w0Am5qkekKNH",
    "outputId": "3a1be730-2c76-47b4-a44f-87f746392359"
   },
   "outputs": [
    {
     "data": {
      "text/plain": [
       "100"
      ]
     },
     "execution_count": 41,
     "metadata": {
      "tags": []
     },
     "output_type": "execute_result"
    }
   ],
   "source": [
    "sqr(10)"
   ]
  },
  {
   "cell_type": "code",
   "execution_count": null,
   "metadata": {
    "colab": {},
    "colab_type": "code",
    "id": "-A1MrkLDkMju",
    "outputId": "e0f689a5-e3a0-430a-aa7c-db046e21202b"
   },
   "outputs": [
    {
     "data": {
      "text/plain": [
       "32"
      ]
     },
     "execution_count": 48,
     "metadata": {
      "tags": []
     },
     "output_type": "execute_result"
    }
   ],
   "source": [
    "sqr(5)"
   ]
  },
  {
   "cell_type": "code",
   "execution_count": null,
   "metadata": {
    "colab": {},
    "colab_type": "code",
    "id": "gsu2kbuJnKmx",
    "outputId": "cc6940e4-6dc5-4b81-bf49-62ae1a3a6ba4"
   },
   "outputs": [
    {
     "name": "stdout",
     "output_type": "stream",
     "text": [
      "hello world\n",
      "25\n"
     ]
    }
   ],
   "source": [
    "d = sqr(5)\n",
    "print(d)"
   ]
  },
  {
   "cell_type": "code",
   "execution_count": null,
   "metadata": {
    "colab": {},
    "colab_type": "code",
    "id": "rvIJalhLlWjF"
   },
   "outputs": [],
   "source": [
    "def sqr1(x):\n",
    "  if x == 5:\n",
    "    return (len(\"Terminated because you entered 5\"))\n",
    "\n",
    "  result = x **2\n",
    "  return (result)\n"
   ]
  },
  {
   "cell_type": "code",
   "execution_count": null,
   "metadata": {
    "colab": {},
    "colab_type": "code",
    "id": "d42SXhJtlWjI",
    "outputId": "5ab157d2-9d7c-4302-81ed-3a016ae1eb79"
   },
   "outputs": [
    {
     "data": {
      "text/plain": [
       "32"
      ]
     },
     "execution_count": 52,
     "metadata": {
      "tags": []
     },
     "output_type": "execute_result"
    }
   ],
   "source": [
    "sqr1(5)"
   ]
  },
  {
   "cell_type": "code",
   "execution_count": null,
   "metadata": {
    "colab": {},
    "colab_type": "code",
    "id": "ewtG6xuRkQsy"
   },
   "outputs": [],
   "source": [
    "# Let's write a function that tells you whether the entered number is positive, negative or zero.\n",
    "\n",
    "\n",
    "def func(x):\n",
    "  if x > 0:\n",
    "    return (\"Positive\")\n",
    "  elif x < 0:\n",
    "    return (\"Negative\")\n",
    "  else:\n",
    "    return (\"Zero\")\n",
    "\n"
   ]
  },
  {
   "cell_type": "code",
   "execution_count": null,
   "metadata": {
    "colab": {},
    "colab_type": "code",
    "id": "UQ3T_8UTlJ8u",
    "outputId": "458eddef-5e0a-498f-ea94-56be182dfd18"
   },
   "outputs": [
    {
     "name": "stdout",
     "output_type": "stream",
     "text": [
      "Negative\n",
      "Positive\n",
      "Positive\n",
      "Zero\n",
      "Negative\n",
      "Negative\n"
     ]
    }
   ],
   "source": [
    "for i in [-2,5,6,0,-4,-7]:\n",
    "  print(func(i))"
   ]
  },
  {
   "cell_type": "code",
   "execution_count": null,
   "metadata": {
    "colab": {},
    "colab_type": "code",
    "id": "_gih-r9xlZBr"
   },
   "outputs": [],
   "source": [
    "# factorial calculation\n",
    "\n",
    "\n",
    "def factorial(num):\n",
    "  factorial = 1\n",
    "  if (num == 0 or num == 1):\n",
    "    print(\"Factorial: \", factorial)\n",
    "  else:\n",
    "    while (num >= 1):\n",
    "      factorial = factorial * num\n",
    "      num -= 1 \n",
    "    print(\"Factorial: \", factorial)\n",
    "\n",
    "\n"
   ]
  },
  {
   "cell_type": "code",
   "execution_count": null,
   "metadata": {
    "colab": {},
    "colab_type": "code",
    "id": "sw8EVtqplWjU",
    "outputId": "af644edb-dab4-4932-f884-a4cc7699555b"
   },
   "outputs": [
    {
     "name": "stdout",
     "output_type": "stream",
     "text": [
      "Factorial:  120\n"
     ]
    }
   ],
   "source": [
    "factorial(5)"
   ]
  },
  {
   "cell_type": "code",
   "execution_count": null,
   "metadata": {
    "colab": {},
    "colab_type": "code",
    "id": "nhEq72M9lWjY"
   },
   "outputs": [],
   "source": [
    "# 5* 4* 3* 2* 1 = 120"
   ]
  },
  {
   "cell_type": "code",
   "execution_count": null,
   "metadata": {
    "colab": {},
    "colab_type": "code",
    "id": "OQBMccOwyhl9"
   },
   "outputs": [],
   "source": [
    "#using for loop\n",
    "\n",
    "def factorial2(num2):\n",
    "  factorial2 = 1\n",
    "  if (num2 == 0 or num2 == 1):\n",
    "    print(\"Factorial: \", factorial2)\n",
    "  else:\n",
    "    for i in range(factorial2, num2+1):\n",
    "       factorial2 = factorial2 * i      \n",
    "    print(\"Factorial: \", factorial2)\n"
   ]
  },
  {
   "cell_type": "code",
   "execution_count": null,
   "metadata": {
    "colab": {},
    "colab_type": "code",
    "id": "-b8t6CgSl3Yu",
    "outputId": "e44f88da-776b-4849-eb22-e22ff6338ad9"
   },
   "outputs": [
    {
     "name": "stdout",
     "output_type": "stream",
     "text": [
      "Factorial:  120\n"
     ]
    }
   ],
   "source": [
    "x = factorial2(5)\n",
    "x"
   ]
  },
  {
   "cell_type": "code",
   "execution_count": null,
   "metadata": {
    "colab": {},
    "colab_type": "code",
    "id": "aHt5OhkKlWjg",
    "outputId": "cf9025c1-8eb0-4b57-a6c6-cfef1e9252ac"
   },
   "outputs": [
    {
     "name": "stdout",
     "output_type": "stream",
     "text": [
      "0\n",
      "1\n",
      "2\n",
      "3\n",
      "4\n",
      "5\n",
      "6\n",
      "7\n",
      "8\n",
      "9\n"
     ]
    }
   ],
   "source": [
    "for i in range(0,10):\n",
    "    print(i)"
   ]
  },
  {
   "cell_type": "code",
   "execution_count": null,
   "metadata": {
    "colab": {},
    "colab_type": "code",
    "id": "blFFawxml7wW"
   },
   "outputs": [],
   "source": [
    "def factorial3(nums):\n",
    "  factorial3 = 1\n",
    "  if (nums == 0 or nums == 1):\n",
    "    return (\"Factorial: \", factorial3)\n",
    "  else:\n",
    "    for i in range(factorial3, nums+1):\n",
    "       factorial3 *= i      \n",
    "    return (\"Factorial: \", factorial3)"
   ]
  },
  {
   "cell_type": "code",
   "execution_count": null,
   "metadata": {
    "colab": {},
    "colab_type": "code",
    "id": "HVWS7rb9mAIf",
    "outputId": "6a782e04-11e1-42c8-ede6-71feac2303d5"
   },
   "outputs": [
    {
     "name": "stdout",
     "output_type": "stream",
     "text": [
      "('Factorial: ', 720)\n"
     ]
    }
   ],
   "source": [
    "x = factorial3(6)\n",
    "print(x)"
   ]
  },
  {
   "cell_type": "code",
   "execution_count": null,
   "metadata": {
    "colab": {},
    "colab_type": "code",
    "id": "HIUms-AlzQu9"
   },
   "outputs": [],
   "source": [
    "def hello2(name, capLetter = False):\n",
    "  if capLetter:\n",
    "    print(\"Hello \" + name.upper())\n",
    "  else:\n",
    "    print(\"Hello \" + name)"
   ]
  },
  {
   "cell_type": "code",
   "execution_count": null,
   "metadata": {
    "colab": {},
    "colab_type": "code",
    "id": "DkHm9Vtw0O4M",
    "outputId": "fdf2d059-273c-4154-83a1-cde3e9a5fb53"
   },
   "outputs": [
    {
     "name": "stdout",
     "output_type": "stream",
     "text": [
      "Hello Asli\n"
     ]
    }
   ],
   "source": [
    "hello2(\"Asli\")"
   ]
  },
  {
   "cell_type": "code",
   "execution_count": null,
   "metadata": {
    "colab": {},
    "colab_type": "code",
    "id": "dYyDrfTn0TOS",
    "outputId": "1d59a01a-c60e-4150-d070-56c7d553c545"
   },
   "outputs": [
    {
     "name": "stdout",
     "output_type": "stream",
     "text": [
      "Hello ASLI\n"
     ]
    }
   ],
   "source": [
    "hello2(\"Asli\", capLetter= True)"
   ]
  },
  {
   "cell_type": "code",
   "execution_count": null,
   "metadata": {
    "colab": {},
    "colab_type": "code",
    "id": "AzJDy8xD1Rbm"
   },
   "outputs": [],
   "source": [
    "def multp(*args):\n",
    "  result = 1\n",
    "  for i in args:\n",
    "    result = result * i\n",
    "  print(result) \n",
    "\n",
    "\n",
    "# *args keeps the data as tuple type."
   ]
  },
  {
   "cell_type": "code",
   "execution_count": null,
   "metadata": {
    "colab": {
     "base_uri": "https://localhost:8080/",
     "height": 35
    },
    "colab_type": "code",
    "id": "crk-VWf912z_",
    "outputId": "251acfa4-5dcc-44fc-ff37-89e125cab82e"
   },
   "outputs": [
    {
     "name": "stdout",
     "output_type": "stream",
     "text": [
      "6720\n"
     ]
    }
   ],
   "source": [
    "multp(4,5,6,7,8)"
   ]
  },
  {
   "cell_type": "code",
   "execution_count": null,
   "metadata": {
    "colab": {
     "base_uri": "https://localhost:8080/",
     "height": 35
    },
    "colab_type": "code",
    "id": "sp9bJPmu1-lF",
    "outputId": "0aab548b-3a1f-4c19-ddfe-8287e43ee2f6"
   },
   "outputs": [
    {
     "name": "stdout",
     "output_type": "stream",
     "text": [
      "120\n"
     ]
    }
   ],
   "source": [
    "multp(2,3,4,5)"
   ]
  },
  {
   "cell_type": "code",
   "execution_count": null,
   "metadata": {
    "colab": {},
    "colab_type": "code",
    "id": "M_gEN02J7Z6P"
   },
   "outputs": [],
   "source": [
    "def salaryCalc(salary):\n",
    "\n",
    "  if salary < 0:\n",
    "    return(\"Invalid value\")\n",
    "  else:\n",
    "    if 0 < salary <= 1000:\n",
    "      salary = salary + salary * 0.15\n",
    "    elif salary <= 2000:\n",
    "      salary = salary + salary * 0.1\n",
    "    elif salary <= 3000:\n",
    "      salary = salary + salary * 0.05\n",
    "    else:\n",
    "      salary = salary + salary * 0.025\n",
    "\n",
    "    return (\"New salary: \", salary)"
   ]
  },
  {
   "cell_type": "code",
   "execution_count": null,
   "metadata": {
    "colab": {},
    "colab_type": "code",
    "id": "Tp8kE5iH7-_x",
    "outputId": "68ab49a1-d100-4ca2-e00f-d8e2e1031cd0"
   },
   "outputs": [
    {
     "data": {
      "text/plain": [
       "'Invalid value'"
      ]
     },
     "execution_count": 81,
     "metadata": {
      "tags": []
     },
     "output_type": "execute_result"
    }
   ],
   "source": [
    "salaryCalc(-5)"
   ]
  },
  {
   "cell_type": "code",
   "execution_count": null,
   "metadata": {
    "colab": {},
    "colab_type": "code",
    "id": "I9BT87fl-Kgr"
   },
   "outputs": [],
   "source": [
    "\n",
    "def salaryCalc2():\n",
    "\n",
    "  salary = float(input(\"Please enter your current salary: \"))\n",
    "\n",
    "  if salary < 0:\n",
    "    return(\"Invalid value\")\n",
    "  else:\n",
    "    if 0 < salary <= 1000:\n",
    "      salary = salary + salary * 0.15\n",
    "    elif salary <= 2000:\n",
    "      salary = salary + salary * 0.1\n",
    "    elif salary <= 3000:\n",
    "      salary = salary + salary * 0.05\n",
    "    else:\n",
    "      salary = salary + salary * 0.025\n",
    "\n",
    "    return (\"New salary: \", salary)\n",
    " "
   ]
  },
  {
   "cell_type": "code",
   "execution_count": null,
   "metadata": {
    "colab": {},
    "colab_type": "code",
    "id": "bF1ty6Cc8U_X",
    "outputId": "1e6d64b7-aad5-4683-a9dd-fac29e0ab6b2"
   },
   "outputs": [
    {
     "name": "stdout",
     "output_type": "stream",
     "text": [
      "Please enter your current salary: 800\n",
      "('New salary: ', 920.0)\n"
     ]
    }
   ],
   "source": [
    "new_salary = salaryCalc2() \n",
    "print(new_salary)"
   ]
  },
  {
   "cell_type": "code",
   "execution_count": null,
   "metadata": {
    "colab": {},
    "colab_type": "code",
    "id": "tDklGeaVlWkM",
    "outputId": "13ccb1b9-ec40-4008-c855-0eb534f0c74b"
   },
   "outputs": [
    {
     "data": {
      "text/plain": [
       "15"
      ]
     },
     "execution_count": 87,
     "metadata": {
      "tags": []
     },
     "output_type": "execute_result"
    }
   ],
   "source": [
    "def carpma(x,y):\n",
    "    return x * y\n",
    "\n",
    "carpma(3,5)"
   ]
  },
  {
   "cell_type": "code",
   "execution_count": null,
   "metadata": {
    "colab": {},
    "colab_type": "code",
    "id": "KnNFw7g6lWkO",
    "outputId": "f4b5a0cf-0876-4085-8609-c6b386787a19"
   },
   "outputs": [
    {
     "name": "stdout",
     "output_type": "stream",
     "text": [
      "(5, 6, 7, 8, 9)\n",
      "(100, 'Global AI Hub')\n"
     ]
    }
   ],
   "source": [
    "def func_args(*numbers):\n",
    "    print(numbers)\n",
    "\n",
    "func_args(5,6,7,8,9)\n",
    "func_args(100,\"Global AI Hub\")"
   ]
  },
  {
   "cell_type": "code",
   "execution_count": null,
   "metadata": {
    "colab": {},
    "colab_type": "code",
    "id": "FekFHwnOlWkT",
    "outputId": "43d49afc-3559-41e5-d77d-d51dfe4a1ecc"
   },
   "outputs": [
    {
     "name": "stdout",
     "output_type": "stream",
     "text": [
      "[10, 4.4, 'Ahmet', True, 'Istanbul', 33, 9.8]\n"
     ]
    }
   ],
   "source": [
    "def func_args(*args):\n",
    "    for i in args:\n",
    "        print(i)\n",
    "\n",
    "liste = [10,4.4,'Ahmet',True,\"Istanbul\",33,9.8]\n",
    "func_args(liste)"
   ]
  },
  {
   "cell_type": "code",
   "execution_count": null,
   "metadata": {
    "colab": {},
    "colab_type": "code",
    "id": "C6IwiuHnlWkZ",
    "outputId": "126472d2-89de-49e3-8f82-a1a6e27906df"
   },
   "outputs": [
    {
     "name": "stdout",
     "output_type": "stream",
     "text": [
      "{'num1': 'Ankara', 'num2': 'Kocaeli', 'num3': True, 'num4': 3.14}\n"
     ]
    }
   ],
   "source": [
    "#kwargs\n",
    "def func_kwargs(**number):\n",
    "    print(number)\n",
    "    \n",
    "func_kwargs(num1 = 'Ankara', num2 = 'Kocaeli', num3 = True, num4 = 3.14)"
   ]
  },
  {
   "cell_type": "markdown",
   "metadata": {
    "colab_type": "text",
    "id": "6sOO_4CbBygM"
   },
   "source": [
    "### Let's write a function that returns a random word from a list.\n",
    "\n",
    "###Modules\n",
    "\n",
    "import numpy as np\n",
    "\n",
    "import tensorflow as tf\n",
    "\n",
    "import myModules as my_mod\n",
    "\n",
    "myModules.myFunc()\n",
    "\n",
    "from myModules import *\n",
    "\n",
    "myFunc()"
   ]
  },
  {
   "cell_type": "code",
   "execution_count": null,
   "metadata": {
    "colab": {},
    "colab_type": "code",
    "id": "Xjm17EGTlWkd"
   },
   "outputs": [],
   "source": [
    "#calling a function from myModules\n",
    "my_mod.sum()\n",
    "my_mod.multiple()"
   ]
  },
  {
   "cell_type": "code",
   "execution_count": null,
   "metadata": {
    "colab": {},
    "colab_type": "code",
    "id": "fyf2VtDZ3ALS"
   },
   "outputs": [],
   "source": [
    "words = [\"artificial\",\"intelligence\",\"machine\",\"learning\",\"python\",\"programming\"]\n",
    "\n",
    "\n",
    "#from random import *\n",
    "import random as rnd\n",
    "\n",
    "def randomWord(words):\n",
    "  index = rnd.randint(0, len(words)-1)\n",
    "  return words[index]\n",
    "  \n",
    "\n"
   ]
  },
  {
   "cell_type": "code",
   "execution_count": null,
   "metadata": {
    "colab": {},
    "colab_type": "code",
    "id": "BesFivMOlWki",
    "outputId": "033004da-fe08-488f-f079-66027e58b691"
   },
   "outputs": [
    {
     "data": {
      "text/plain": [
       "6"
      ]
     },
     "execution_count": 100,
     "metadata": {
      "tags": []
     },
     "output_type": "execute_result"
    }
   ],
   "source": [
    "len(words)"
   ]
  },
  {
   "cell_type": "code",
   "execution_count": null,
   "metadata": {
    "colab": {
     "base_uri": "https://localhost:8080/",
     "height": 35
    },
    "colab_type": "code",
    "id": "vdt230OzC_DR",
    "outputId": "d86a979d-f371-44b4-9769-3b074686680c"
   },
   "outputs": [
    {
     "name": "stdout",
     "output_type": "stream",
     "text": [
      "machine\n"
     ]
    }
   ],
   "source": [
    "word = randomWord(words)\n",
    "print(word)"
   ]
  },
  {
   "cell_type": "markdown",
   "metadata": {
    "colab_type": "text",
    "id": "MfFOsrA6AfmC"
   },
   "source": [
    "###Global & Local Variables"
   ]
  },
  {
   "cell_type": "code",
   "execution_count": null,
   "metadata": {
    "colab": {
     "base_uri": "https://localhost:8080/",
     "height": 35
    },
    "colab_type": "code",
    "id": "7_UD1zAn_lxX",
    "outputId": "943b58cd-497e-4cec-962f-37084451f85a"
   },
   "outputs": [
    {
     "name": "stdout",
     "output_type": "stream",
     "text": [
      "5\n"
     ]
    }
   ],
   "source": [
    "x = 5\n",
    "\n",
    "print(x)"
   ]
  },
  {
   "cell_type": "code",
   "execution_count": null,
   "metadata": {
    "colab": {},
    "colab_type": "code",
    "id": "IisEjgqpAqCi"
   },
   "outputs": [],
   "source": [
    "def display():\n",
    "  x = 4\n",
    "  return(x)"
   ]
  },
  {
   "cell_type": "code",
   "execution_count": null,
   "metadata": {
    "colab": {
     "base_uri": "https://localhost:8080/",
     "height": 35
    },
    "colab_type": "code",
    "id": "6dhEuYDjAylB",
    "outputId": "3d88f156-bdd1-411b-9fcb-93715c02d292"
   },
   "outputs": [
    {
     "data": {
      "text/plain": [
       "4"
      ]
     },
     "execution_count": 107,
     "metadata": {
      "tags": []
     },
     "output_type": "execute_result"
    }
   ],
   "source": [
    "display()"
   ]
  },
  {
   "cell_type": "code",
   "execution_count": null,
   "metadata": {
    "colab": {
     "base_uri": "https://localhost:8080/",
     "height": 35
    },
    "colab_type": "code",
    "id": "dPUxfagJA7Gn",
    "outputId": "ba6bf99f-ba77-4498-b6f5-fe4c2328d920"
   },
   "outputs": [
    {
     "name": "stdout",
     "output_type": "stream",
     "text": [
      "5\n"
     ]
    }
   ],
   "source": [
    "print(x)"
   ]
  },
  {
   "cell_type": "markdown",
   "metadata": {
    "colab_type": "text",
    "id": "WJreHgrGllCV"
   },
   "source": [
    "## Methods\n",
    "\n",
    "Functions are called by name, it can take parameters inside and optionally the resulting value can be used outside of the function.\n",
    "\n",
    "\n",
    "Methods are also called by name, in many ways they are like functions, but calling is performed through an object such as a String or list.\n",
    "\n",
    "\n",
    "object.methodName(parameter)"
   ]
  },
  {
   "cell_type": "code",
   "execution_count": null,
   "metadata": {
    "colab": {},
    "colab_type": "code",
    "id": "G56qfrjqDEDP",
    "outputId": "00d728df-be2a-4243-8d35-b34b566f60b7"
   },
   "outputs": [
    {
     "name": "stdout",
     "output_type": "stream",
     "text": [
      "Please enter a name: omer\n",
      "Omer\n"
     ]
    }
   ],
   "source": [
    "s = input(\"Please enter a name: \")\n",
    "\n",
    "upper = s.capitalize()\n",
    "\n",
    "print(upper)"
   ]
  },
  {
   "cell_type": "code",
   "execution_count": null,
   "metadata": {
    "colab": {
     "base_uri": "https://localhost:8080/",
     "height": 35
    },
    "colab_type": "code",
    "id": "7DzoBNeApbzZ",
    "outputId": "1574c1d7-156b-4650-f3b6-8a2b22b98eed"
   },
   "outputs": [
    {
     "name": "stdout",
     "output_type": "stream",
     "text": [
      "78\n",
      "5\n"
     ]
    }
   ],
   "source": [
    "#return the index of the element with the highest value in a given list.\n",
    "\n",
    "myList = [45,7,23,6,12,78]\n",
    "\n",
    "maxElement = max(myList)\n",
    "\n",
    "print(maxElement)\n",
    "\n",
    "maxIndex = myList.index(maxElement)\n",
    "\n",
    "print(maxIndex)"
   ]
  },
  {
   "cell_type": "code",
   "execution_count": null,
   "metadata": {
    "colab": {},
    "colab_type": "code",
    "id": "pl39b-cLlWk_"
   },
   "outputs": [],
   "source": []
  },
  {
   "cell_type": "markdown",
   "metadata": {
    "colab_type": "text",
    "id": "H6k8jXA_OKDH"
   },
   "source": [
    "# Intro to Object Oriented Programming\n",
    "\n",
    "Every entity we see around us is an object.\n",
    "Each object has its own attributes and a set of functions (methods) they perform.\n",
    "\n",
    "The concept we call class is also the data types that enable us to generate objects.\n",
    "\n"
   ]
  },
  {
   "cell_type": "code",
   "execution_count": null,
   "metadata": {
    "colab": {},
    "colab_type": "code",
    "id": "3OrB2on4la2n",
    "outputId": "6cc6b1e8-9ea8-4820-f26c-3bdd5b31855a"
   },
   "outputs": [
    {
     "name": "stdout",
     "output_type": "stream",
     "text": [
      "Bir kelime giriniz:Hello World\n",
      "Hello World kelimesinde 3 sesli harf var.\n"
     ]
    }
   ],
   "source": [
    "sesli_harfler = 'aeıioöuü'\n",
    "sayac = 0\n",
    "def kelime_al():\n",
    "    return input('Bir kelime giriniz:')\n",
    "\n",
    "def sesli_harf(harf):\n",
    "    return harf in sesli_harfler\n",
    "\n",
    "def artır(sayac,kelime):\n",
    "    for harf in kelime:\n",
    "        if sesli_harf(harf):\n",
    "            sayac = sayac + 1\n",
    "    return sayac\n",
    "\n",
    "def ekrana_bas(kelime):   \n",
    "    mesaj = '{} kelimesinde {} sesli harf var.'\n",
    "    print(mesaj.format(kelime,artır(sayac,kelime)))\n",
    "    \n",
    "def calıstır():\n",
    "    kelime = kelime_al()\n",
    "    ekrana_bas(kelime)\n",
    "\n",
    "calıstır()"
   ]
  },
  {
   "cell_type": "code",
   "execution_count": null,
   "metadata": {
    "colab": {},
    "colab_type": "code",
    "id": "ohitmdGBla2q"
   },
   "outputs": [],
   "source": [
    "class HarfSayacı:\n",
    "    def __init__(self):\n",
    "        self.sesli_harfler = 'aeıioöuü'\n",
    "        self.sayaç = 0\n",
    "\n",
    "    def kelime_sor(self):\n",
    "        return input('Bir kelime girin: ')\n",
    "\n",
    "    def seslidir(self, harf):\n",
    "        return harf in self.sesli_harfler\n",
    "\n",
    "    def artır(self):\n",
    "        for harf in self.kelime:\n",
    "            if self.seslidir(harf):\n",
    "                self.sayaç += 1\n",
    "        return self.sayaç\n",
    "\n",
    "    def ekrana_bas(self):\n",
    "        mesaj = \"{} kelimesinde {} sesli harf var.\"\n",
    "        sesli_harf_sayısı = self.artır()\n",
    "        print(mesaj.format(self.kelime, sesli_harf_sayısı))\n",
    "\n",
    "    def çalıştır(self):\n",
    "        self.kelime = self.kelime_sor()\n",
    "        self.ekrana_bas()\n",
    "\n",
    "if __name__ == '__main__':\n",
    "    sayaç = HarfSayacı()\n",
    "    sayaç.çalıştır()"
   ]
  },
  {
   "cell_type": "code",
   "execution_count": null,
   "metadata": {
    "colab": {},
    "colab_type": "code",
    "id": "goeyGJlnla2w",
    "outputId": "5a075052-2059-4b69-d985-beffec48621a"
   },
   "outputs": [
    {
     "data": {
      "text/plain": [
       "'\\nclass Worker:\\n    pass\\n'"
      ]
     },
     "execution_count": 14,
     "metadata": {
      "tags": []
     },
     "output_type": "execute_result"
    }
   ],
   "source": [
    "class Worker():\n",
    "    pass\n",
    "\n",
    "\n",
    "\"\"\"\n",
    "class Worker:\n",
    "    pass\n",
    "\"\"\""
   ]
  },
  {
   "cell_type": "code",
   "execution_count": null,
   "metadata": {
    "colab": {},
    "colab_type": "code",
    "id": "RvIjixb-ONiw"
   },
   "outputs": [],
   "source": [
    "#class attributes\n",
    "class Car():\n",
    "  colour = \"yellow\"\n",
    "  brand = \"xyz\"\n",
    "  door = 4\n"
   ]
  },
  {
   "cell_type": "code",
   "execution_count": null,
   "metadata": {
    "colab": {
     "base_uri": "https://localhost:8080/",
     "height": 35
    },
    "colab_type": "code",
    "id": "PHXc3gzoZVRK",
    "outputId": "be0b6557-da92-46cc-8241-1bb3137466fb"
   },
   "outputs": [
    {
     "name": "stdout",
     "output_type": "stream",
     "text": [
      "<__main__.Car object at 0x00000180ADF5DE08>\n"
     ]
    }
   ],
   "source": [
    "#instantiation\n",
    "car1 = Car()\n",
    "\n",
    "print(car1)\n"
   ]
  },
  {
   "cell_type": "code",
   "execution_count": null,
   "metadata": {
    "colab": {},
    "colab_type": "code",
    "id": "8Z38odyhZj2x",
    "outputId": "901c2a3c-216c-4e68-b8ee-350aa0e12948"
   },
   "outputs": [
    {
     "name": "stdout",
     "output_type": "stream",
     "text": [
      "yellow\n",
      "xyz\n",
      "4\n"
     ]
    }
   ],
   "source": [
    "print(car1.colour)\n",
    "print(car1.brand)\n",
    "print(car1.door)"
   ]
  },
  {
   "cell_type": "code",
   "execution_count": null,
   "metadata": {
    "colab": {},
    "colab_type": "code",
    "id": "ASMwsKZQZ73S",
    "outputId": "a0d958b6-48b4-407e-b907-307530715dc8"
   },
   "outputs": [
    {
     "data": {
      "text/plain": [
       "'yellow'"
      ]
     },
     "execution_count": 30,
     "metadata": {
      "tags": []
     },
     "output_type": "execute_result"
    }
   ],
   "source": [
    "car2 = Car()\n",
    "\n",
    "car2.colour"
   ]
  },
  {
   "cell_type": "code",
   "execution_count": null,
   "metadata": {
    "colab": {},
    "colab_type": "code",
    "id": "gvURL79zaMSZ",
    "outputId": "815ccd37-5de5-4dda-8dd8-df306e1d9dd8"
   },
   "outputs": [
    {
     "data": {
      "text/plain": [
       "4"
      ]
     },
     "execution_count": 24,
     "metadata": {
      "tags": []
     },
     "output_type": "execute_result"
    }
   ],
   "source": [
    "#We can also call attributes over the class without creating an object.\n",
    "\n",
    "Car.door"
   ]
  },
  {
   "cell_type": "code",
   "execution_count": null,
   "metadata": {
    "colab": {
     "base_uri": "https://localhost:8080/",
     "height": 36
    },
    "colab_type": "code",
    "id": "D-bSYoMcaRbD",
    "outputId": "2193f663-a22d-434c-9ff0-c2d7d39765bd"
   },
   "outputs": [
    {
     "data": {
      "text/plain": [
       "'xyz'"
      ]
     },
     "execution_count": 25,
     "metadata": {
      "tags": []
     },
     "output_type": "execute_result"
    }
   ],
   "source": [
    "Car.brand"
   ]
  },
  {
   "cell_type": "code",
   "execution_count": null,
   "metadata": {
    "colab": {},
    "colab_type": "code",
    "id": "ODInfukGbGLo",
    "outputId": "3260d5a2-e58b-43b3-8be7-4a4a9e87bd68"
   },
   "outputs": [
    {
     "data": {
      "text/plain": [
       "['__class__',\n",
       " '__delattr__',\n",
       " '__dict__',\n",
       " '__dir__',\n",
       " '__doc__',\n",
       " '__eq__',\n",
       " '__format__',\n",
       " '__ge__',\n",
       " '__getattribute__',\n",
       " '__gt__',\n",
       " '__hash__',\n",
       " '__init__',\n",
       " '__init_subclass__',\n",
       " '__le__',\n",
       " '__lt__',\n",
       " '__module__',\n",
       " '__ne__',\n",
       " '__new__',\n",
       " '__reduce__',\n",
       " '__reduce_ex__',\n",
       " '__repr__',\n",
       " '__setattr__',\n",
       " '__sizeof__',\n",
       " '__str__',\n",
       " '__subclasshook__',\n",
       " '__weakref__',\n",
       " 'brand',\n",
       " 'colour',\n",
       " 'door']"
      ]
     },
     "execution_count": 26,
     "metadata": {
      "tags": []
     },
     "output_type": "execute_result"
    }
   ],
   "source": [
    "dir(car1)"
   ]
  },
  {
   "cell_type": "code",
   "execution_count": null,
   "metadata": {
    "colab": {},
    "colab_type": "code",
    "id": "iB2P1I88aZTB"
   },
   "outputs": [],
   "source": [
    "\"\"\"\n",
    "In order to create each object with different values at the beginning,\n",
    "we need to send the values of the objects.\n",
    "For this, we use a special method: __init () __\n",
    "\n",
    "The init () method is defined as a constructor function.\n",
    "\n",
    "It is the first function that is automatically called up while creating our objects.\n",
    "\n",
    "By defining this method specially, we can create our objects with different values.\n",
    "\n",
    "\"\"\"\n",
    "\n",
    "\n"
   ]
  },
  {
   "cell_type": "code",
   "execution_count": null,
   "metadata": {
    "colab": {},
    "colab_type": "code",
    "id": "VdPxg1DUbrRE"
   },
   "outputs": [],
   "source": [
    "class Car2():\n",
    "\n",
    "  def __init__(self): \n",
    "    print(\"init function calling...\")\n",
    "\n"
   ]
  },
  {
   "cell_type": "code",
   "execution_count": null,
   "metadata": {
    "colab": {},
    "colab_type": "code",
    "id": "MHV17DUfla3g",
    "outputId": "5fbb1bd6-fda6-4f23-b0ca-733b41e0a507"
   },
   "outputs": [
    {
     "name": "stdout",
     "output_type": "stream",
     "text": [
      "init function calling...\n"
     ]
    },
    {
     "data": {
      "text/plain": [
       "<__main__.Car2 at 0x180adf31f88>"
      ]
     },
     "execution_count": 32,
     "metadata": {
      "tags": []
     },
     "output_type": "execute_result"
    }
   ],
   "source": [
    "car_init = Car2()\n",
    "car_init"
   ]
  },
  {
   "cell_type": "code",
   "execution_count": null,
   "metadata": {
    "colab": {},
    "colab_type": "code",
    "id": "rukOVNMxc3_T"
   },
   "outputs": [],
   "source": [
    "\"\"\"\n",
    "\n",
    "self= to access any variable or other methods in the defined class.\n",
    "\n",
    "\"\"\""
   ]
  },
  {
   "cell_type": "code",
   "execution_count": null,
   "metadata": {
    "colab": {},
    "colab_type": "code",
    "id": "BVfHG7DXcdGj",
    "outputId": "825f39d6-249a-4783-86bf-0c677c4b46c0"
   },
   "outputs": [
    {
     "name": "stdout",
     "output_type": "stream",
     "text": [
      "init function calling...\n"
     ]
    }
   ],
   "source": [
    "car = Car2()"
   ]
  },
  {
   "cell_type": "code",
   "execution_count": null,
   "metadata": {
    "colab": {},
    "colab_type": "code",
    "id": "HSQQs2f0eZpr",
    "outputId": "cf60db67-b6b5-4d0b-eac1-91e203f0b43f"
   },
   "outputs": [
    {
     "name": "stdout",
     "output_type": "stream",
     "text": [
      "Hello Car world\n",
      "red abc 2\n",
      "Hello Car world\n",
      "yellow xyz 4\n",
      "red\n",
      "xyz\n"
     ]
    }
   ],
   "source": [
    "class Car3():\n",
    "\n",
    "  def __init__(self,colour,brand,door):\n",
    "    print(\"Hello Car world\")\n",
    "    self.colour = colour\n",
    "    self.brand = brand\n",
    "    self.door = door\n",
    "    print(self.colour,self.brand,self.door)\n",
    "\n",
    "\n",
    "red_car = Car3(\"red\", \"abc\",2)\n",
    "\n",
    "yellow_car = Car3(\"yellow\", \"xyz\", 4)\n",
    "\n",
    "print(red_car.colour)\n",
    "print(yellow_car.brand)"
   ]
  },
  {
   "cell_type": "code",
   "execution_count": null,
   "metadata": {
    "colab": {},
    "colab_type": "code",
    "id": "Awm6VrLEObqE",
    "outputId": "50dc4e52-8511-4a11-b07c-841282aec3d1"
   },
   "outputs": [
    {
     "name": "stdout",
     "output_type": "stream",
     "text": [
      "Hello Car world\n",
      "black 34abc23 5\n",
      "<__main__.Car3 object at 0x00000180ADF53048>\n"
     ]
    }
   ],
   "source": [
    "blue_car = Car3(\"black\",\"34abc23\",5)\n",
    "print(blue_car)"
   ]
  },
  {
   "cell_type": "code",
   "execution_count": null,
   "metadata": {
    "colab": {},
    "colab_type": "code",
    "id": "YjSEGRYrfQ69"
   },
   "outputs": [],
   "source": [
    "class Person():\n",
    "  name = \"\"\n",
    "  age = 0\n",
    "    \n",
    "  def __init__(self, personName, personAge):\n",
    "    self.name = personName\n",
    "    self.age = personAge\n",
    "\n",
    "\n",
    "  def welcomePerson(self):\n",
    "    print(\"Hello \" + self.name)\n",
    "\n",
    "  \n",
    "  def showAge(self):\n",
    "    print(self.age)\n"
   ]
  },
  {
   "cell_type": "code",
   "execution_count": null,
   "metadata": {
    "colab": {},
    "colab_type": "code",
    "id": "GeZqS15XhmM7",
    "outputId": "da28c1d6-b411-494f-cd53-bb03a2f13cf1"
   },
   "outputs": [
    {
     "name": "stdout",
     "output_type": "stream",
     "text": [
      "Hello Asli\n"
     ]
    }
   ],
   "source": [
    "person1 = Person (\"Asli\", 28)\n",
    "\n",
    "person1.welcomePerson()"
   ]
  },
  {
   "cell_type": "code",
   "execution_count": null,
   "metadata": {
    "colab": {},
    "colab_type": "code",
    "id": "imIm2qrdjESE",
    "outputId": "e8d19ff6-8805-4426-f6a5-562664599fd5"
   },
   "outputs": [
    {
     "name": "stdout",
     "output_type": "stream",
     "text": [
      "28\n"
     ]
    }
   ],
   "source": [
    "person1.showAge()"
   ]
  },
  {
   "cell_type": "code",
   "execution_count": null,
   "metadata": {
    "colab": {},
    "colab_type": "code",
    "id": "bGR0XBxLjcGo"
   },
   "outputs": [],
   "source": [
    "class Person3():\n",
    "\n",
    "  def __init__(self, name, age):\n",
    "    self.name = name\n",
    "    self.age = age\n",
    "    self.language = []\n",
    " \n",
    "\n",
    "\n",
    "  def welcomePerson(self):\n",
    "    print(\"Hello \" + self.name)\n",
    "\n",
    "  \n",
    "  def showAge(self):\n",
    "    print(self.age)\n",
    "\n",
    "\n",
    "  def addLang (self, new_lang):\n",
    "    print(\"Adding new language..\")\n",
    "    self.language.append(new_lang)\n",
    "\n",
    "  \n",
    "  def showInfo(self):\n",
    "    print(\"{} is {} years old and can speak these languages: \".format(self.name,self.age))\n",
    "    for i in self.language:\n",
    "      print(i)\n",
    "        \n",
    "        \n",
    "\n",
    "        \n",
    "        "
   ]
  },
  {
   "cell_type": "code",
   "execution_count": null,
   "metadata": {
    "colab": {},
    "colab_type": "code",
    "id": "zkmDy4tSpeSO"
   },
   "outputs": [],
   "source": [
    "person3 = Person3(\"asli\",28)"
   ]
  },
  {
   "cell_type": "code",
   "execution_count": null,
   "metadata": {
    "colab": {},
    "colab_type": "code",
    "id": "iGvesZvPpqBw",
    "outputId": "1055f81c-69b1-467e-807d-20de14c566d1"
   },
   "outputs": [
    {
     "name": "stdout",
     "output_type": "stream",
     "text": [
      "Hello asli\n"
     ]
    }
   ],
   "source": [
    "person3.welcomePerson()"
   ]
  },
  {
   "cell_type": "code",
   "execution_count": null,
   "metadata": {
    "colab": {
     "base_uri": "https://localhost:8080/",
     "height": 35
    },
    "colab_type": "code",
    "id": "ZwaRNvXVptKE",
    "outputId": "71da4988-8ecb-4a1e-ceff-49d607519c28"
   },
   "outputs": [
    {
     "name": "stdout",
     "output_type": "stream",
     "text": [
      "28\n"
     ]
    }
   ],
   "source": [
    "person3.showAge()"
   ]
  },
  {
   "cell_type": "code",
   "execution_count": null,
   "metadata": {
    "colab": {},
    "colab_type": "code",
    "id": "RssjOznYpvfv",
    "outputId": "0304bb81-4fcc-4ff5-c00a-5a85caff404f"
   },
   "outputs": [
    {
     "name": "stdout",
     "output_type": "stream",
     "text": [
      "Adding new language..\n"
     ]
    }
   ],
   "source": [
    "person3.addLang(\"german\")"
   ]
  },
  {
   "cell_type": "code",
   "execution_count": null,
   "metadata": {
    "colab": {},
    "colab_type": "code",
    "id": "axnwe5fbqOWx",
    "outputId": "0cc0200a-e992-4c17-aca3-ec2e19b9adc3"
   },
   "outputs": [
    {
     "name": "stdout",
     "output_type": "stream",
     "text": [
      "asli is 28 years old and can speak these languages: \n",
      "german\n",
      "german\n"
     ]
    }
   ],
   "source": [
    "person3.showInfo()"
   ]
  },
  {
   "cell_type": "code",
   "execution_count": null,
   "metadata": {
    "colab": {},
    "colab_type": "code",
    "id": "j4LQVwVDtbqL",
    "outputId": "75034def-a240-49bd-9006-ea29b16fd832"
   },
   "outputs": [
    {
     "name": "stdout",
     "output_type": "stream",
     "text": [
      "Adding new language..\n"
     ]
    }
   ],
   "source": [
    "person3.addLang(\"english\")"
   ]
  },
  {
   "cell_type": "code",
   "execution_count": null,
   "metadata": {
    "colab": {},
    "colab_type": "code",
    "id": "rjhVBnGotg5T",
    "outputId": "38f05645-6a4a-42e4-e37f-4592c0e865e0"
   },
   "outputs": [
    {
     "name": "stdout",
     "output_type": "stream",
     "text": [
      "asli is 28 years old and can speak these languages: \n",
      "german\n",
      "german\n",
      "english\n"
     ]
    }
   ],
   "source": [
    "person3.showInfo()"
   ]
  },
  {
   "cell_type": "code",
   "execution_count": null,
   "metadata": {
    "colab": {},
    "colab_type": "code",
    "id": "ixgOQX4cla4i"
   },
   "outputs": [],
   "source": []
  },
  {
   "cell_type": "markdown",
   "metadata": {
    "colab_type": "text",
    "id": "V0B2QkdWJkuK"
   },
   "source": [
    "## Fonksiyonlar ( Functions )"
   ]
  },
  {
   "cell_type": "code",
   "execution_count": 142,
   "metadata": {
    "colab": {},
    "colab_type": "code",
    "id": "msp6-4AjJkuK"
   },
   "outputs": [
    {
     "name": "stdout",
     "output_type": "stream",
     "text": [
      "\n",
      "İsim: Ahmet DENİZ\n",
      "Ortalama: 78.33\n",
      "Harf notu: C\n",
      "--------------------\n",
      "İsim: Aylin TÜRK\n",
      "Ortalama: 45.00\n",
      "Harf notu: F\n",
      "--------------------\n",
      "İsim: Murat YILMAZ\n",
      "Ortalama: 95.00\n",
      "Harf notu: A\n",
      "--------------------"
     ]
    }
   ],
   "source": [
    "def not_hesaplama(ad, puanlar):\n",
    "    ortalama = sum(puanlar) / len(puanlar)\n",
    "    \n",
    "    if ortalama > 90:\n",
    "        harf = 'A'\n",
    "    elif ortalama > 80:\n",
    "        harf = 'B'\n",
    "    elif ortalama > 60:\n",
    "        harf = 'C'\n",
    "    elif ortalama > 50:\n",
    "        harf = 'D'\n",
    "    else:\n",
    "        harf = 'F'\n",
    "    \n",
    "    print(f'\\nİsim: {ad}\\nOrtalama: {ortalama:.2f}\\nHarf notu: {harf}\\n', end=\"-\"*20)\n",
    "\n",
    "not_hesaplama('Ahmet DENİZ', (60, 100, 75))\n",
    "not_hesaplama('Aylin TÜRK', (20, 50, 65))\n",
    "not_hesaplama('Murat YILMAZ', (100, 100, 85))"
   ]
  },
  {
   "cell_type": "code",
   "execution_count": 143,
   "metadata": {
    "colab": {},
    "colab_type": "code",
    "id": "0S3WZf4kJkuL"
   },
   "outputs": [
    {
     "name": "stdout",
     "output_type": "stream",
     "text": [
      "100\n",
      "20\n",
      "64\n"
     ]
    }
   ],
   "source": [
    "def carp(a=10, b=10):\n",
    "    sonuc = a * b\n",
    "    return sonuc\n",
    "\n",
    "sonuc = carp()\n",
    "print(sonuc)\n",
    "\n",
    "print(carp(5, 4))\n",
    "print(carp(b=32, a=2))"
   ]
  },
  {
   "cell_type": "code",
   "execution_count": 144,
   "metadata": {
    "colab": {},
    "colab_type": "code",
    "id": "Il7Fjz8jJkuQ"
   },
   "outputs": [
    {
     "name": "stdout",
     "output_type": "stream",
     "text": [
      "10\n",
      "5\n"
     ]
    }
   ],
   "source": [
    "a = 5\n",
    "def a_degistirme():\n",
    "    a = 10\n",
    "    print(a)\n",
    "a_degistirme()\n",
    "print(a)"
   ]
  },
  {
   "cell_type": "code",
   "execution_count": 145,
   "metadata": {
    "colab": {},
    "colab_type": "code",
    "id": "Ea_sU_BGJkuR"
   },
   "outputs": [
    {
     "name": "stdout",
     "output_type": "stream",
     "text": [
      "10\n",
      "10\n"
     ]
    }
   ],
   "source": [
    "a = 5\n",
    "def a_degistirme():\n",
    "    global a\n",
    "    a = 10\n",
    "    print(a)\n",
    "a_degistirme()\n",
    "print(a)"
   ]
  },
  {
   "cell_type": "markdown",
   "metadata": {
    "colab_type": "text",
    "id": "rGfUR7zJJkuS"
   },
   "source": [
    "## Nesne Yönelimli Programlama GİRİŞ ( Beginning OOP )"
   ]
  },
  {
   "cell_type": "code",
   "execution_count": 146,
   "metadata": {
    "colab": {},
    "colab_type": "code",
    "id": "dx6d34ekJkuS"
   },
   "outputs": [
    {
     "name": "stdout",
     "output_type": "stream",
     "text": [
      "Araba gidiyor..\n",
      "Araba duruyor..\n",
      "Araba gidiyor..\n"
     ]
    }
   ],
   "source": [
    "class Araba:\n",
    "    def sür(self):\n",
    "        print('Araba gidiyor..')\n",
    "    \n",
    "    def dur(self):\n",
    "        print('Araba duruyor..')\n",
    "        \n",
    "\n",
    "araba = Araba()\n",
    "araba.sür()\n",
    "araba.dur()\n",
    "araba.sür()"
   ]
  },
  {
   "cell_type": "code",
   "execution_count": 147,
   "metadata": {
    "colab": {},
    "colab_type": "code",
    "id": "oo_b3X7UJkuT"
   },
   "outputs": [],
   "source": [
    "class Araba:\n",
    "    \"\"\"\n",
    "    Python dersi için tanımladığımız araba sınıfımız.\n",
    "    -------------------------------------------------\n",
    "    Sınıf içerisinde arabanın yapmasını istediğimiz \n",
    "    ve yapabileceği fonksiyonları barındırıyor.\n",
    "    \"\"\"\n",
    "    def __init__(self, marka, model, yıl, renk):\n",
    "        \"\"\"\n",
    "        Bir nesne oluştururken aşağıdaki parametreleri\n",
    "        vermeyi unutmayın!\n",
    "        => Marka, Model, Yıl ve Renk\n",
    "        \"\"\"\n",
    "        self.marka = marka\n",
    "        self.model = model\n",
    "        self.yıl = yıl\n",
    "        self.renk = renk\n",
    "        self.durum = 0\n",
    "        \"\"\"\n",
    "        0: Kapalı\n",
    "        1: Çalışır halde duruyor\n",
    "        2: Gidiyor\n",
    "        \"\"\"\n",
    "        \n",
    "    def çalıştır(self):\n",
    "        self.durum = 1 \n",
    "    \n",
    "    def durdur(self):\n",
    "        self.durum = 0 \n",
    "        \n",
    "    def sür(self):\n",
    "        if self.durum:\n",
    "            print('{} gidiyor'.format(self.model))\n",
    "            self.durum = 2\n",
    "        else:\n",
    "            print('Önce arabayı çalıştır')\n",
    "    \n",
    "    def dur(self):\n",
    "        if self.durum:\n",
    "            print('{} duruyor'.format(self.model))\n",
    "            self.durum = 1\n",
    "        else:\n",
    "            print('Önce arabayı çalıştır')\n",
    "            \n",
    "    def özellikleri_yazdır(self):\n",
    "        print(f\"Marka: {self.marka:<10}\\\n",
    "        Model: {self.model:<10}\\\n",
    "        Yıl: {self.yıl:<10}\\\n",
    "        Renk: {self.renk:<10}\")"
   ]
  },
  {
   "cell_type": "code",
   "execution_count": 148,
   "metadata": {
    "colab": {},
    "colab_type": "code",
    "id": "fNQfyFq2JkuU"
   },
   "outputs": [
    {
     "name": "stdout",
     "output_type": "stream",
     "text": [
      "Önce arabayı çalıştır\n",
      "Challenger gidiyor\n",
      "Marka: Dodge             Model: Challenger        Yıl: 2016              Renk: Siyah     \n",
      "Challenger duruyor\n"
     ]
    }
   ],
   "source": [
    "\n",
    "araba1 = Araba('Dodge', 'Challenger', '2016', 'Siyah')\n",
    "araba1.sür()\n",
    "araba1.çalıştır()\n",
    "araba1.sür()\n",
    "araba1.özellikleri_yazdır()\n",
    "araba1.dur()"
   ]
  },
  {
   "cell_type": "code",
   "execution_count": 149,
   "metadata": {
    "colab": {},
    "colab_type": "code",
    "id": "iXoLgEdTJkuV"
   },
   "outputs": [
    {
     "name": "stdout",
     "output_type": "stream",
     "text": [
      "Önce arabayı çalıştır\n",
      "Mustang gidiyor\n",
      "Marka: Ford              Model: Mustang           Yıl: 1971              Renk: Sarı-Siyah\n",
      "Mustang duruyor\n"
     ]
    }
   ],
   "source": [
    "araba2 = Araba('Ford', 'Mustang', '1971', 'Sarı-Siyah')\n",
    "araba2.sür()\n",
    "araba2.çalıştır()\n",
    "araba2.sür()\n",
    "araba2.özellikleri_yazdır()\n",
    "araba2.dur()"
   ]
  },
  {
   "cell_type": "code",
   "execution_count": null,
   "metadata": {},
   "outputs": [],
   "source": []
  }
 ],
 "metadata": {
  "kernelspec": {
   "display_name": "Python 3",
   "language": "python",
   "name": "python3"
  },
  "language_info": {
   "codemirror_mode": {
    "name": "ipython",
    "version": 3
   },
   "file_extension": ".py",
   "mimetype": "text/x-python",
   "name": "python",
   "nbconvert_exporter": "python",
   "pygments_lexer": "ipython3",
   "version": "3.7.3"
  }
 },
 "nbformat": 4,
 "nbformat_minor": 2
}
